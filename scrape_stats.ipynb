{
 "cells": [
  {
   "cell_type": "code",
   "execution_count": 83,
   "metadata": {
    "collapsed": true
   },
   "outputs": [],
   "source": [
    "import pandas as pd\n",
    "import numpy as np\n",
    "from lxml.html import parse\n",
    "from urllib2 import urlopen\n",
    "import re"
   ]
  },
  {
   "cell_type": "code",
   "execution_count": 87,
   "metadata": {
    "collapsed": false
   },
   "outputs": [],
   "source": [
    "#function for parsing\n",
    "def read_rb_stats(season, page=0):\n",
    "    #read in RB stats for given season from fftoday.com\n",
    "    rb_column_names = ['Name', 'Team', 'Games', 'RunAtt', 'RunYards', 'RunTD', 'Targets', 'Rec', 'RecYards', 'RecTD', 'FFP', 'FFPPG']\n",
    "    url_str = 'http://fftoday.com/stats/playerstats.php?Season=%d&GameWeek=&PosID=20&LeagueID=1&order_by=FFPts&sort_order=DESC&cur_page=%d' % (season, page)\n",
    "    \n",
    "    #parse html and find the main data table\n",
    "    parsed = parse(urlopen(url_str))\n",
    "    page = parsed.getroot()\n",
    "    tables = page.findall('.//table')\n",
    "    #get the rows of the player table\n",
    "    main_table = tables[10]\n",
    "    rows = main_table.findall('.//tr')\n",
    "    \n",
    "    #dataframe we will return\n",
    "    rb_df = pd.DataFrame(columns=rb_column_names)\n",
    "    for i,row in enumerate(rows[2:]): #rows[2] is first player entry\n",
    "        elements = row.findall('.//td') #find all elements in the row\n",
    "        values = [val.text_content() for val in elements] #make a list of all the values from the row\n",
    "        rb_df.loc[i] = values\n",
    "        \n",
    "    #clean up entries\n",
    "    rb_df['Name'] = rb_df['Name'].str.replace('[^a-z]', '',flags=re.IGNORECASE) #remove extra stuff from name cell\n",
    "    rb_df['RunYards'] = rb_df['RunYards'].str.replace(',', '') #remove thousands commas\n",
    "    rb_df['RecYards'] = rb_df['RecYards'].str.replace(',', '')\n",
    "    \n",
    "    return rb_df"
   ]
  },
  {
   "cell_type": "code",
   "execution_count": 90,
   "metadata": {
    "collapsed": false
   },
   "outputs": [
    {
     "data": {
      "text/html": [
       "<div>\n",
       "<table border=\"1\" class=\"dataframe\">\n",
       "  <thead>\n",
       "    <tr style=\"text-align: right;\">\n",
       "      <th></th>\n",
       "      <th>Name</th>\n",
       "      <th>Team</th>\n",
       "      <th>Games</th>\n",
       "      <th>RunAtt</th>\n",
       "      <th>RunYards</th>\n",
       "      <th>RunTD</th>\n",
       "      <th>Targets</th>\n",
       "      <th>Rec</th>\n",
       "      <th>RecYards</th>\n",
       "      <th>RecTD</th>\n",
       "      <th>FFP</th>\n",
       "      <th>FFPPG</th>\n",
       "    </tr>\n",
       "  </thead>\n",
       "  <tbody>\n",
       "    <tr>\n",
       "      <th>0</th>\n",
       "      <td>DeMarcoMurray</td>\n",
       "      <td>DAL</td>\n",
       "      <td>16</td>\n",
       "      <td>393</td>\n",
       "      <td>1845</td>\n",
       "      <td>13</td>\n",
       "      <td>64</td>\n",
       "      <td>57</td>\n",
       "      <td>416</td>\n",
       "      <td>0</td>\n",
       "      <td>304.1</td>\n",
       "      <td>19.0</td>\n",
       "    </tr>\n",
       "    <tr>\n",
       "      <th>1</th>\n",
       "      <td>LeVeonBell</td>\n",
       "      <td>PIT</td>\n",
       "      <td>16</td>\n",
       "      <td>290</td>\n",
       "      <td>1361</td>\n",
       "      <td>8</td>\n",
       "      <td>105</td>\n",
       "      <td>83</td>\n",
       "      <td>854</td>\n",
       "      <td>3</td>\n",
       "      <td>287.5</td>\n",
       "      <td>18.0</td>\n",
       "    </tr>\n",
       "    <tr>\n",
       "      <th>2</th>\n",
       "      <td>MarshawnLynch</td>\n",
       "      <td>SEA</td>\n",
       "      <td>16</td>\n",
       "      <td>280</td>\n",
       "      <td>1306</td>\n",
       "      <td>13</td>\n",
       "      <td>48</td>\n",
       "      <td>37</td>\n",
       "      <td>367</td>\n",
       "      <td>4</td>\n",
       "      <td>269.3</td>\n",
       "      <td>16.8</td>\n",
       "    </tr>\n",
       "    <tr>\n",
       "      <th>3</th>\n",
       "      <td>MattForte</td>\n",
       "      <td>CHI</td>\n",
       "      <td>16</td>\n",
       "      <td>266</td>\n",
       "      <td>1038</td>\n",
       "      <td>6</td>\n",
       "      <td>130</td>\n",
       "      <td>102</td>\n",
       "      <td>808</td>\n",
       "      <td>4</td>\n",
       "      <td>244.6</td>\n",
       "      <td>15.3</td>\n",
       "    </tr>\n",
       "    <tr>\n",
       "      <th>4</th>\n",
       "      <td>ArianFoster</td>\n",
       "      <td>HOU</td>\n",
       "      <td>13</td>\n",
       "      <td>260</td>\n",
       "      <td>1246</td>\n",
       "      <td>8</td>\n",
       "      <td>59</td>\n",
       "      <td>38</td>\n",
       "      <td>327</td>\n",
       "      <td>5</td>\n",
       "      <td>235.3</td>\n",
       "      <td>18.1</td>\n",
       "    </tr>\n",
       "  </tbody>\n",
       "</table>\n",
       "</div>"
      ],
      "text/plain": [
       "            Name Team Games RunAtt RunYards RunTD Targets  Rec RecYards RecTD  \\\n",
       "0  DeMarcoMurray  DAL    16    393     1845    13      64   57      416     0   \n",
       "1     LeVeonBell  PIT    16    290     1361     8     105   83      854     3   \n",
       "2  MarshawnLynch  SEA    16    280     1306    13      48   37      367     4   \n",
       "3      MattForte  CHI    16    266     1038     6     130  102      808     4   \n",
       "4    ArianFoster  HOU    13    260     1246     8      59   38      327     5   \n",
       "\n",
       "     FFP FFPPG  \n",
       "0  304.1  19.0  \n",
       "1  287.5  18.0  \n",
       "2  269.3  16.8  \n",
       "3  244.6  15.3  \n",
       "4  235.3  18.1  "
      ]
     },
     "execution_count": 90,
     "metadata": {},
     "output_type": "execute_result"
    }
   ],
   "source": [
    "df = read_rb_stats(2014,0)\n",
    "df.head()"
   ]
  },
  {
   "cell_type": "code",
   "execution_count": null,
   "metadata": {
    "collapsed": true
   },
   "outputs": [],
   "source": []
  }
 ],
 "metadata": {
  "kernelspec": {
   "display_name": "Python 2",
   "language": "python",
   "name": "python2"
  },
  "language_info": {
   "codemirror_mode": {
    "name": "ipython",
    "version": 2
   },
   "file_extension": ".py",
   "mimetype": "text/x-python",
   "name": "python",
   "nbconvert_exporter": "python",
   "pygments_lexer": "ipython2",
   "version": "2.7.10"
  }
 },
 "nbformat": 4,
 "nbformat_minor": 0
}
