{
 "cells": [
  {
   "cell_type": "code",
   "execution_count": 1,
   "metadata": {
    "collapsed": true
   },
   "outputs": [],
   "source": [
    "%reload_ext autoreload\n",
    "%autoreload 2\n",
    "import pandas as pd\n",
    "import numpy as np\n",
    "import re\n",
    "import sys\n",
    "import matplotlib.pyplot as plt\n",
    "%matplotlib inline\n",
    "pd.options.display.max_columns = 1000\n",
    "pd.options.display.max_rows = 250"
   ]
  },
  {
   "cell_type": "code",
   "execution_count": 2,
   "metadata": {
    "collapsed": true
   },
   "outputs": [],
   "source": [
    "sys.path.append('../')\n",
    "import read_player_stats\n",
    "import training_data\n",
    "import game_by_game"
   ]
  },
  {
   "cell_type": "code",
   "execution_count": 4,
   "metadata": {
    "collapsed": false
   },
   "outputs": [],
   "source": [
    "FD_salaries = pd.read_csv('../salaries/FD/FanDuel-NFL-2015-09-27-13067-players-list.csv')"
   ]
  },
  {
   "cell_type": "code",
   "execution_count": 5,
   "metadata": {
    "collapsed": false
   },
   "outputs": [
    {
     "data": {
      "text/html": [
       "<div>\n",
       "<table border=\"1\" class=\"dataframe\">\n",
       "  <thead>\n",
       "    <tr style=\"text-align: right;\">\n",
       "      <th></th>\n",
       "      <th>Id</th>\n",
       "      <th>Position</th>\n",
       "      <th>First Name</th>\n",
       "      <th>Last Name</th>\n",
       "      <th>FPPG</th>\n",
       "      <th>Played</th>\n",
       "      <th>Salary</th>\n",
       "      <th>Game</th>\n",
       "      <th>Team</th>\n",
       "      <th>Opponent</th>\n",
       "      <th>Injury Indicator</th>\n",
       "      <th>Injury Details</th>\n",
       "      <th>Unnamed: 12</th>\n",
       "      <th>Unnamed: 13</th>\n",
       "      <th>Name</th>\n",
       "    </tr>\n",
       "  </thead>\n",
       "  <tbody>\n",
       "    <tr>\n",
       "      <th>0</th>\n",
       "      <td>11612</td>\n",
       "      <td>WR</td>\n",
       "      <td>Antonio</td>\n",
       "      <td>Brown</td>\n",
       "      <td>27.9</td>\n",
       "      <td>2</td>\n",
       "      <td>9300</td>\n",
       "      <td>PIT@STL</td>\n",
       "      <td>PIT</td>\n",
       "      <td>STL</td>\n",
       "      <td>NaN</td>\n",
       "      <td>NaN</td>\n",
       "      <td>NaN</td>\n",
       "      <td>NaN</td>\n",
       "      <td>AntonioBrown</td>\n",
       "    </tr>\n",
       "    <tr>\n",
       "      <th>1</th>\n",
       "      <td>6894</td>\n",
       "      <td>QB</td>\n",
       "      <td>Aaron</td>\n",
       "      <td>Rodgers</td>\n",
       "      <td>21.7</td>\n",
       "      <td>2</td>\n",
       "      <td>9100</td>\n",
       "      <td>KC@GB</td>\n",
       "      <td>GB</td>\n",
       "      <td>KC</td>\n",
       "      <td>NaN</td>\n",
       "      <td>NaN</td>\n",
       "      <td>NaN</td>\n",
       "      <td>NaN</td>\n",
       "      <td>AaronRodgers</td>\n",
       "    </tr>\n",
       "    <tr>\n",
       "      <th>2</th>\n",
       "      <td>21939</td>\n",
       "      <td>QB</td>\n",
       "      <td>Andrew</td>\n",
       "      <td>Luck</td>\n",
       "      <td>14.6</td>\n",
       "      <td>2</td>\n",
       "      <td>9000</td>\n",
       "      <td>IND@TEN</td>\n",
       "      <td>IND</td>\n",
       "      <td>TEN</td>\n",
       "      <td>NaN</td>\n",
       "      <td>NaN</td>\n",
       "      <td>NaN</td>\n",
       "      <td>NaN</td>\n",
       "      <td>AndrewLuck</td>\n",
       "    </tr>\n",
       "    <tr>\n",
       "      <th>3</th>\n",
       "      <td>14190</td>\n",
       "      <td>WR</td>\n",
       "      <td>Julio</td>\n",
       "      <td>Jones</td>\n",
       "      <td>25.3</td>\n",
       "      <td>2</td>\n",
       "      <td>9000</td>\n",
       "      <td>ATL@DAL</td>\n",
       "      <td>ATL</td>\n",
       "      <td>DAL</td>\n",
       "      <td>P</td>\n",
       "      <td>Hamstring</td>\n",
       "      <td>NaN</td>\n",
       "      <td>NaN</td>\n",
       "      <td>JulioJones</td>\n",
       "    </tr>\n",
       "    <tr>\n",
       "      <th>4</th>\n",
       "      <td>6703</td>\n",
       "      <td>RB</td>\n",
       "      <td>Adrian</td>\n",
       "      <td>Peterson</td>\n",
       "      <td>12.5</td>\n",
       "      <td>2</td>\n",
       "      <td>8900</td>\n",
       "      <td>SD@MIN</td>\n",
       "      <td>MIN</td>\n",
       "      <td>SD</td>\n",
       "      <td>NaN</td>\n",
       "      <td>NaN</td>\n",
       "      <td>NaN</td>\n",
       "      <td>NaN</td>\n",
       "      <td>AdrianPeterson</td>\n",
       "    </tr>\n",
       "  </tbody>\n",
       "</table>\n",
       "</div>"
      ],
      "text/plain": [
       "      Id Position First Name Last Name  FPPG  Played  Salary     Game Team  \\\n",
       "0  11612       WR    Antonio     Brown  27.9       2    9300  PIT@STL  PIT   \n",
       "1   6894       QB      Aaron   Rodgers  21.7       2    9100    KC@GB   GB   \n",
       "2  21939       QB     Andrew      Luck  14.6       2    9000  IND@TEN  IND   \n",
       "3  14190       WR      Julio     Jones  25.3       2    9000  ATL@DAL  ATL   \n",
       "4   6703       RB     Adrian  Peterson  12.5       2    8900   SD@MIN  MIN   \n",
       "\n",
       "  Opponent Injury Indicator Injury Details  Unnamed: 12  Unnamed: 13  \\\n",
       "0      STL              NaN            NaN          NaN          NaN   \n",
       "1       KC              NaN            NaN          NaN          NaN   \n",
       "2      TEN              NaN            NaN          NaN          NaN   \n",
       "3      DAL                P      Hamstring          NaN          NaN   \n",
       "4       SD              NaN            NaN          NaN          NaN   \n",
       "\n",
       "             Name  \n",
       "0    AntonioBrown  \n",
       "1    AaronRodgers  \n",
       "2      AndrewLuck  \n",
       "3      JulioJones  \n",
       "4  AdrianPeterson  "
      ]
     },
     "execution_count": 5,
     "metadata": {},
     "output_type": "execute_result"
    }
   ],
   "source": [
    "FD_salaries['Name'] = FD_salaries['First Name'] + FD_salaries['Last Name']\n",
    "FD_salaries['Name'] = FD_salaries['Name'].str.replace('[^a-z]', '',flags=re.IGNORECASE)\n",
    "FD_salaries.head()"
   ]
  },
  {
   "cell_type": "code",
   "execution_count": 6,
   "metadata": {
    "collapsed": true
   },
   "outputs": [],
   "source": [
    "FD_salaries = FD_salaries[['Name', 'Salary', 'Position']]"
   ]
  },
  {
   "cell_type": "code",
   "execution_count": 7,
   "metadata": {
    "collapsed": false
   },
   "outputs": [],
   "source": [
    "positions = ['QB', 'RB', 'WR', 'TE']\n",
    "position_salaries = [FD_salaries[FD_salaries.Position == pos] for pos in positions]"
   ]
  },
  {
   "cell_type": "code",
   "execution_count": 8,
   "metadata": {
    "collapsed": false
   },
   "outputs": [],
   "source": [
    "position_salaries[0]\n",
    "for i,pos in enumerate(positions):\n",
    "    position_salaries[i].to_csv('../salaries/by_position/' + pos + '_W3_2015.csv')"
   ]
  },
  {
   "cell_type": "code",
   "execution_count": null,
   "metadata": {
    "collapsed": true
   },
   "outputs": [],
   "source": []
  }
 ],
 "metadata": {
  "kernelspec": {
   "display_name": "Python 2",
   "language": "python",
   "name": "python2"
  },
  "language_info": {
   "codemirror_mode": {
    "name": "ipython",
    "version": 2
   },
   "file_extension": ".py",
   "mimetype": "text/x-python",
   "name": "python",
   "nbconvert_exporter": "python",
   "pygments_lexer": "ipython2",
   "version": "2.7.10"
  }
 },
 "nbformat": 4,
 "nbformat_minor": 0
}
