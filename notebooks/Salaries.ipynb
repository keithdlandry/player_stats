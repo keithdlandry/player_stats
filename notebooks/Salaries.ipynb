{
 "cells": [
  {
   "cell_type": "code",
   "execution_count": 1,
   "metadata": {
    "collapsed": true
   },
   "outputs": [],
   "source": [
    "%reload_ext autoreload\n",
    "%autoreload 2\n",
    "import pandas as pd\n",
    "import numpy as np\n",
    "import re\n",
    "import sys\n",
    "import matplotlib.pyplot as plt\n",
    "%matplotlib inline\n",
    "pd.options.display.max_columns = 1000\n",
    "pd.options.display.max_rows = 250"
   ]
  },
  {
   "cell_type": "code",
   "execution_count": 2,
   "metadata": {
    "collapsed": true
   },
   "outputs": [],
   "source": [
    "sys.path.append('../')\n",
    "import read_player_stats\n",
    "import training_data\n",
    "import game_by_game"
   ]
  },
  {
   "cell_type": "code",
   "execution_count": 14,
   "metadata": {
    "collapsed": true
   },
   "outputs": [],
   "source": [
    "FD_salaries = pd.read_csv('../salaries/FD/FanDuel-NFL-2015-09-20-13004-players-list.csv')"
   ]
  },
  {
   "cell_type": "code",
   "execution_count": 15,
   "metadata": {
    "collapsed": false
   },
   "outputs": [
    {
     "data": {
      "text/html": [
       "<div>\n",
       "<table border=\"1\" class=\"dataframe\">\n",
       "  <thead>\n",
       "    <tr style=\"text-align: right;\">\n",
       "      <th></th>\n",
       "      <th>Id</th>\n",
       "      <th>Position</th>\n",
       "      <th>First Name</th>\n",
       "      <th>Last Name</th>\n",
       "      <th>FPPG</th>\n",
       "      <th>Played</th>\n",
       "      <th>Salary</th>\n",
       "      <th>Game</th>\n",
       "      <th>Team</th>\n",
       "      <th>Opponent</th>\n",
       "      <th>Injury Indicator</th>\n",
       "      <th>Injury Details</th>\n",
       "      <th>Unnamed: 12</th>\n",
       "      <th>Unnamed: 13</th>\n",
       "      <th>Name</th>\n",
       "    </tr>\n",
       "  </thead>\n",
       "  <tbody>\n",
       "    <tr>\n",
       "      <th>0</th>\n",
       "      <td>6894</td>\n",
       "      <td>QB</td>\n",
       "      <td>Aaron</td>\n",
       "      <td>Rodgers</td>\n",
       "      <td>23.1</td>\n",
       "      <td>1</td>\n",
       "      <td>9300</td>\n",
       "      <td>SEA@GB</td>\n",
       "      <td>GB</td>\n",
       "      <td>SEA</td>\n",
       "      <td>NaN</td>\n",
       "      <td>NaN</td>\n",
       "      <td>NaN</td>\n",
       "      <td>NaN</td>\n",
       "      <td>AaronRodgers</td>\n",
       "    </tr>\n",
       "    <tr>\n",
       "      <th>1</th>\n",
       "      <td>11612</td>\n",
       "      <td>WR</td>\n",
       "      <td>Antonio</td>\n",
       "      <td>Brown</td>\n",
       "      <td>23.8</td>\n",
       "      <td>1</td>\n",
       "      <td>9200</td>\n",
       "      <td>SF@PIT</td>\n",
       "      <td>PIT</td>\n",
       "      <td>SF</td>\n",
       "      <td>NaN</td>\n",
       "      <td>NaN</td>\n",
       "      <td>NaN</td>\n",
       "      <td>NaN</td>\n",
       "      <td>AntonioBrown</td>\n",
       "    </tr>\n",
       "    <tr>\n",
       "      <th>2</th>\n",
       "      <td>6703</td>\n",
       "      <td>RB</td>\n",
       "      <td>Adrian</td>\n",
       "      <td>Peterson</td>\n",
       "      <td>6.7</td>\n",
       "      <td>1</td>\n",
       "      <td>9000</td>\n",
       "      <td>DET@MIN</td>\n",
       "      <td>MIN</td>\n",
       "      <td>DET</td>\n",
       "      <td>NaN</td>\n",
       "      <td>NaN</td>\n",
       "      <td>NaN</td>\n",
       "      <td>NaN</td>\n",
       "      <td>AdrianPeterson</td>\n",
       "    </tr>\n",
       "    <tr>\n",
       "      <th>3</th>\n",
       "      <td>6504</td>\n",
       "      <td>QB</td>\n",
       "      <td>Drew</td>\n",
       "      <td>Brees</td>\n",
       "      <td>17.5</td>\n",
       "      <td>1</td>\n",
       "      <td>8900</td>\n",
       "      <td>TB@NO</td>\n",
       "      <td>NO</td>\n",
       "      <td>TB</td>\n",
       "      <td>NaN</td>\n",
       "      <td>NaN</td>\n",
       "      <td>NaN</td>\n",
       "      <td>NaN</td>\n",
       "      <td>DrewBrees</td>\n",
       "    </tr>\n",
       "    <tr>\n",
       "      <th>4</th>\n",
       "      <td>6899</td>\n",
       "      <td>RB</td>\n",
       "      <td>Matt</td>\n",
       "      <td>Forte</td>\n",
       "      <td>25.1</td>\n",
       "      <td>1</td>\n",
       "      <td>8900</td>\n",
       "      <td>ARI@CHI</td>\n",
       "      <td>CHI</td>\n",
       "      <td>ARI</td>\n",
       "      <td>NaN</td>\n",
       "      <td>NaN</td>\n",
       "      <td>NaN</td>\n",
       "      <td>NaN</td>\n",
       "      <td>MattForte</td>\n",
       "    </tr>\n",
       "  </tbody>\n",
       "</table>\n",
       "</div>"
      ],
      "text/plain": [
       "      Id Position First Name Last Name  FPPG  Played  Salary     Game Team  \\\n",
       "0   6894       QB      Aaron   Rodgers  23.1       1    9300   SEA@GB   GB   \n",
       "1  11612       WR    Antonio     Brown  23.8       1    9200   SF@PIT  PIT   \n",
       "2   6703       RB     Adrian  Peterson   6.7       1    9000  DET@MIN  MIN   \n",
       "3   6504       QB       Drew     Brees  17.5       1    8900    TB@NO   NO   \n",
       "4   6899       RB       Matt     Forte  25.1       1    8900  ARI@CHI  CHI   \n",
       "\n",
       "  Opponent Injury Indicator Injury Details  Unnamed: 12  Unnamed: 13  \\\n",
       "0      SEA              NaN            NaN          NaN          NaN   \n",
       "1       SF              NaN            NaN          NaN          NaN   \n",
       "2      DET              NaN            NaN          NaN          NaN   \n",
       "3       TB              NaN            NaN          NaN          NaN   \n",
       "4      ARI              NaN            NaN          NaN          NaN   \n",
       "\n",
       "             Name  \n",
       "0    AaronRodgers  \n",
       "1    AntonioBrown  \n",
       "2  AdrianPeterson  \n",
       "3       DrewBrees  \n",
       "4       MattForte  "
      ]
     },
     "execution_count": 15,
     "metadata": {},
     "output_type": "execute_result"
    }
   ],
   "source": [
    "FD_salaries['Name'] = FD_salaries['First Name'] + FD_salaries['Last Name']\n",
    "FD_salaries['Name'] = FD_salaries['Name'].str.replace('[^a-z]', '',flags=re.IGNORECASE)\n",
    "FD_salaries.head()"
   ]
  },
  {
   "cell_type": "code",
   "execution_count": 16,
   "metadata": {
    "collapsed": true
   },
   "outputs": [],
   "source": [
    "FD_salaries = FD_salaries[['Name', 'Salary', 'Position']]"
   ]
  },
  {
   "cell_type": "code",
   "execution_count": 17,
   "metadata": {
    "collapsed": false
   },
   "outputs": [],
   "source": [
    "positions = ['QB', 'RB', 'WR', 'TE']\n",
    "position_salaries = [FD_salaries[FD_salaries.Position == pos] for pos in positions]"
   ]
  },
  {
   "cell_type": "code",
   "execution_count": 21,
   "metadata": {
    "collapsed": false
   },
   "outputs": [],
   "source": [
    "position_salaries[0]\n",
    "for i,pos in enumerate(positions):\n",
    "    position_salaries[i].to_csv('../salaries/by_position/' + pos + '_W2_2015.csv')"
   ]
  },
  {
   "cell_type": "code",
   "execution_count": null,
   "metadata": {
    "collapsed": true
   },
   "outputs": [],
   "source": []
  }
 ],
 "metadata": {
  "kernelspec": {
   "display_name": "Python 2",
   "language": "python",
   "name": "python2"
  },
  "language_info": {
   "codemirror_mode": {
    "name": "ipython",
    "version": 2
   },
   "file_extension": ".py",
   "mimetype": "text/x-python",
   "name": "python",
   "nbconvert_exporter": "python",
   "pygments_lexer": "ipython2",
   "version": "2.7.10"
  }
 },
 "nbformat": 4,
 "nbformat_minor": 0
}
